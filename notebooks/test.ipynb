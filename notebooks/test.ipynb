{
 "cells": [
  {
   "cell_type": "code",
   "execution_count": 4,
   "id": "0f6f365a",
   "metadata": {},
   "outputs": [
    {
     "name": "stdout",
     "output_type": "stream",
     "text": [
      "\n",
      "🔍 Sample data:\n",
      "        age       sex        cp  trestbps      chol       fbs   restecg  \\\n",
      "0  0.948726  0.686202 -2.251775  0.757525 -0.264900  2.394438  1.016684   \n",
      "1  1.392002  0.686202  0.877985  1.611220  0.760415 -0.417635  1.016684   \n",
      "2  1.392002  0.686202  0.877985 -0.665300 -0.342283 -0.417635  1.016684   \n",
      "3 -1.932564  0.686202 -0.165268 -0.096170  0.063974 -0.417635 -0.996749   \n",
      "4 -1.489288 -1.457296 -1.208521 -0.096170 -0.825922 -0.417635  1.016684   \n",
      "\n",
      "    thalach     exang   oldpeak     slope        ca      thal  target  \n",
      "0  0.017197 -0.696631  1.087338  2.274579 -0.723095  0.655818       0  \n",
      "1 -1.821905  1.435481  0.397182  0.649113  2.503851 -0.898522       2  \n",
      "2 -0.902354  1.435481  1.346147  0.649113  1.428203  1.173931       1  \n",
      "3  1.637359 -0.696631  2.122573  2.274579 -0.723095 -0.898522       0  \n",
      "4  0.980537 -0.696631  0.310912 -0.976352 -0.723095 -0.898522       0  \n",
      "\n",
      "📊 Class distribution in 'target' column:\n",
      "target\n",
      "0    164\n",
      "1     55\n",
      "2     36\n",
      "3     35\n",
      "4     13\n",
      "Name: count, dtype: int64\n"
     ]
    }
   ],
   "source": [
    "# check_class_distribution.py\n",
    "\n",
    "import pandas as pd\n",
    "\n",
    "# Load the cleaned dataset\n",
    "df = pd.read_csv('../data/heart_cleaned.csv')  # Adjust path if needed\n",
    "\n",
    "# Display the first few rows (optional)\n",
    "print(\"\\n🔍 Sample data:\")\n",
    "print(df.head())\n",
    "\n",
    "# Count the number of samples per class in the target column\n",
    "print(\"\\n📊 Class distribution in 'target' column:\")\n",
    "print(df['target'].value_counts().sort_index())\n"
   ]
  }
 ],
 "metadata": {
  "kernelspec": {
   "display_name": "Python 3",
   "language": "python",
   "name": "python3"
  },
  "language_info": {
   "codemirror_mode": {
    "name": "ipython",
    "version": 3
   },
   "file_extension": ".py",
   "mimetype": "text/x-python",
   "name": "python",
   "nbconvert_exporter": "python",
   "pygments_lexer": "ipython3",
   "version": "3.10.9"
  }
 },
 "nbformat": 4,
 "nbformat_minor": 5
}
