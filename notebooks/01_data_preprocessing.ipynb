{
 "cells": [
  {
   "cell_type": "code",
   "execution_count": 1,
   "id": "0d68fca7",
   "metadata": {},
   "outputs": [
    {
     "name": "stdout",
     "output_type": "stream",
     "text": [
      "✅ Data preprocessing complete. Saved to '../data/heart_cleaned.csv'\n"
     ]
    }
   ],
   "source": [
    "# 📘 Step 1: Data Preprocessing\n",
    "\n",
    "# 📦 Import required libraries\n",
    "import pandas as pd\n",
    "import numpy as np\n",
    "from sklearn.preprocessing import StandardScaler\n",
    "from ucimlrepo import fetch_ucirepo\n",
    "import joblib\n",
    "\n",
    "# 📥 Step 1: Fetch dataset from UCI ML Repository (ID 45 = Heart Disease)\n",
    "heart_disease = fetch_ucirepo(id=45)\n",
    "\n",
    "# Split into features and target\n",
    "X = heart_disease.data.features\n",
    "y = heart_disease.data.targets\n",
    "\n",
    "# Combine into one DataFrame\n",
    "df = X.copy()\n",
    "df['target'] = y\n",
    "\n",
    "# 💾 Step 2: Save raw dataset\n",
    "df.to_csv('../data/heart_disease.csv', index=False)\n",
    "\n",
    "# 🔄 Step 3: Reload and clean missing data\n",
    "df = pd.read_csv('../data/heart_disease.csv')\n",
    "df.fillna(df.mean(), inplace=True)\n",
    "\n",
    "# 🎯 Step 4: One-Hot Encoding for categorical columns\n",
    "df_encoded = pd.get_dummies(df, drop_first=True)\n",
    "\n",
    "# 📊 Step 5: Feature scaling\n",
    "X = df_encoded.drop('target', axis=1)\n",
    "y = df_encoded['target']\n",
    "\n",
    "scaler = StandardScaler()\n",
    "X_scaled = pd.DataFrame(scaler.fit_transform(X), columns=X.columns)\n",
    "\n",
    "# Combine scaled features and target again\n",
    "df_cleaned = X_scaled.copy()\n",
    "df_cleaned['target'] = y\n",
    "\n",
    "# 💾 Step 6: Save cleaned dataset\n",
    "df_cleaned.to_csv('../data/heart_cleaned.csv', index=False)\n",
    "\n",
    "# 💾 Save the scaler for future use\n",
    "joblib.dump(scaler, '../models/scaler.pkl')\n",
    "\n",
    "print(\"✅ Data preprocessing complete. Saved to '../data/heart_cleaned.csv'\")\n",
    "\n",
    "\n"
   ]
  }
 ],
 "metadata": {
  "kernelspec": {
   "display_name": "Python 3",
   "language": "python",
   "name": "python3"
  },
  "language_info": {
   "codemirror_mode": {
    "name": "ipython",
    "version": 3
   },
   "file_extension": ".py",
   "mimetype": "text/x-python",
   "name": "python",
   "nbconvert_exporter": "python",
   "pygments_lexer": "ipython3",
   "version": "3.10.9"
  }
 },
 "nbformat": 4,
 "nbformat_minor": 5
}
