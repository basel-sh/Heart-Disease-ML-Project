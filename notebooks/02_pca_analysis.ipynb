{
 "cells": [
  {
   "cell_type": "code",
   "execution_count": 1,
   "id": "03f37be6",
   "metadata": {},
   "outputs": [
    {
     "name": "stdout",
     "output_type": "stream",
     "text": [
      "Component 1: 0.2367\n",
      "Component 2: 0.1230\n",
      "Component 3: 0.0954\n",
      "Component 4: 0.0846\n",
      "Component 5: 0.0759\n",
      "Component 6: 0.0677\n",
      "Component 7: 0.0662\n",
      "Component 8: 0.0598\n",
      "Component 9: 0.0530\n",
      "Component 10: 0.0434\n",
      "Component 11: 0.0353\n",
      "Component 12: 0.0317\n",
      "Component 13: 0.0274\n"
     ]
    }
   ],
   "source": [
    "# 📘 PCA Analysis Notebook (Step 2)\n",
    "\n",
    "import pandas as pd\n",
    "import numpy as np\n",
    "import matplotlib.pyplot as plt\n",
    "from sklearn.decomposition import PCA\n",
    "\n",
    "# Load cleaned dataset\n",
    "df = pd.read_csv('../data/heart_cleaned.csv')\n",
    "X = df.drop('target', axis=1)\n",
    "\n",
    "# Apply PCA\n",
    "pca = PCA(n_components=X.shape[1])\n",
    "X_pca = pca.fit_transform(X)\n",
    "\n",
    "# Explained Variance Ratio\n",
    "explained_var = pca.explained_variance_ratio_\n",
    "for i, ratio in enumerate(explained_var):\n",
    "    print(f\"Component {i+1}: {ratio:.4f}\")\n",
    "\n",
    "# Optional: Cumulative Variance Plot\n",
    "plt.figure(figsize=(8, 4))\n",
    "plt.plot(np.cumsum(explained_var), marker='o')\n",
    "plt.title('PCA - Cumulative Explained Variance')\n",
    "plt.xlabel('Number of Components')\n",
    "plt.ylabel('Cumulative Variance')\n",
    "plt.grid(True)\n",
    "plt.tight_layout()\n",
    "plt.savefig('../data/pca_variance_plot.png')\n",
    "plt.close()\n"
   ]
  }
 ],
 "metadata": {
  "kernelspec": {
   "display_name": "Python 3",
   "language": "python",
   "name": "python3"
  },
  "language_info": {
   "codemirror_mode": {
    "name": "ipython",
    "version": 3
   },
   "file_extension": ".py",
   "mimetype": "text/x-python",
   "name": "python",
   "nbconvert_exporter": "python",
   "pygments_lexer": "ipython3",
   "version": "3.10.9"
  }
 },
 "nbformat": 4,
 "nbformat_minor": 5
}
