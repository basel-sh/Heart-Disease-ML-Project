{
 "cells": [
  {
   "cell_type": "code",
   "execution_count": 2,
   "id": "883b15a7",
   "metadata": {},
   "outputs": [
    {
     "name": "stdout",
     "output_type": "stream",
     "text": [
      "✅ Trained model exported as: ../models/final_model.pkl\n"
     ]
    }
   ],
   "source": [
    "# 📘 07_model_export.ipynb\n",
    "\n",
    "# 📦 Step 1: Import Libraries\n",
    "import pandas as pd\n",
    "import joblib\n",
    "import os\n",
    "from sklearn.ensemble import RandomForestClassifier\n",
    "from sklearn.model_selection import train_test_split\n",
    "from sklearn.pipeline import Pipeline\n",
    "from sklearn.preprocessing import StandardScaler\n",
    "\n",
    "# 📥 Step 2: Load cleaned dataset\n",
    "df = pd.read_csv('../data/heart_cleaned.csv')\n",
    "X = df.drop('target', axis=1)\n",
    "y = df['target']\n",
    "\n",
    "# 🎯 Step 3: Split data\n",
    "X_train, X_test, y_train, y_test = train_test_split(X, y, test_size=0.2, random_state=42)\n",
    "\n",
    "# 🛠 Step 4: Create preprocessing + model pipeline\n",
    "pipeline = Pipeline([\n",
    "    ('scaler', StandardScaler()),\n",
    "    ('classifier', RandomForestClassifier(n_estimators=100, max_depth=10, random_state=42))  # Use best params from step 6\n",
    "])\n",
    "\n",
    "# 🏋️ Step 5: Train pipeline\n",
    "pipeline.fit(X_train, y_train)\n",
    "\n",
    "# 💾 Step 6: Export the trained model\n",
    "os.makedirs(\"../models\", exist_ok=True)\n",
    "joblib.dump(pipeline, \"../models/final_model.pkl\")\n",
    "\n",
    "print(\"✅ Trained model exported as: ../models/final_model.pkl\")\n"
   ]
  }
 ],
 "metadata": {
  "kernelspec": {
   "display_name": "Python 3",
   "language": "python",
   "name": "python3"
  },
  "language_info": {
   "codemirror_mode": {
    "name": "ipython",
    "version": 3
   },
   "file_extension": ".py",
   "mimetype": "text/x-python",
   "name": "python",
   "nbconvert_exporter": "python",
   "pygments_lexer": "ipython3",
   "version": "3.10.9"
  }
 },
 "nbformat": 4,
 "nbformat_minor": 5
}
