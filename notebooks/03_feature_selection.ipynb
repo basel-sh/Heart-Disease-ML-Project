{
 "cells": [
  {
   "cell_type": "code",
   "execution_count": 1,
   "id": "eb53228a",
   "metadata": {},
   "outputs": [
    {
     "name": "stdout",
     "output_type": "stream",
     "text": [
      "🔷 RFE (Top Features):\n",
      "Selected Features by RFE: ['cp', 'restecg', 'oldpeak', 'ca', 'thal']\n",
      "🔷 Chi-Square Test (Top Features):\n",
      "Selected Features by Chi-Square: ['cp', 'exang', 'oldpeak', 'ca', 'thal']\n"
     ]
    }
   ],
   "source": [
    "# 📘 Feature Selection Notebook (Step 3)\n",
    "\n",
    "import pandas as pd\n",
    "from sklearn.feature_selection import RFE, SelectKBest, chi2\n",
    "from sklearn.linear_model import LogisticRegression\n",
    "\n",
    "# Load cleaned dataset\n",
    "df = pd.read_csv('../data/heart_cleaned.csv')\n",
    "X = df.drop('target', axis=1)\n",
    "y = df['target']\n",
    "\n",
    "# ======================\n",
    "# RFE\n",
    "# ======================\n",
    "print(\"🔷 RFE (Top Features):\")\n",
    "model = LogisticRegression(max_iter=1000)\n",
    "rfe = RFE(model, n_features_to_select=5)\n",
    "rfe.fit(X, y)\n",
    "selected_rfe = X.columns[rfe.support_]\n",
    "print(\"Selected Features by RFE:\", list(selected_rfe))\n",
    "\n",
    "# ======================\n",
    "# Chi-Square\n",
    "# ======================\n",
    "print(\"🔷 Chi-Square Test (Top Features):\")\n",
    "X_chi = X.copy()\n",
    "X_chi[X_chi < 0] = 0  # Chi2 needs non-negative values\n",
    "\n",
    "chi_selector = SelectKBest(score_func=chi2, k=5)\n",
    "chi_selector.fit(X_chi, y)\n",
    "selected_chi = X.columns[chi_selector.get_support()]\n",
    "print(\"Selected Features by Chi-Square:\", list(selected_chi))\n"
   ]
  }
 ],
 "metadata": {
  "kernelspec": {
   "display_name": "Python 3",
   "language": "python",
   "name": "python3"
  },
  "language_info": {
   "codemirror_mode": {
    "name": "ipython",
    "version": 3
   },
   "file_extension": ".py",
   "mimetype": "text/x-python",
   "name": "python",
   "nbconvert_exporter": "python",
   "pygments_lexer": "ipython3",
   "version": "3.10.9"
  }
 },
 "nbformat": 4,
 "nbformat_minor": 5
}
